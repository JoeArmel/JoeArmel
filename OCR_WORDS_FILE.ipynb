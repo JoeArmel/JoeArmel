{
  "cells": [
    {
      "cell_type": "markdown",
      "metadata": {
        "id": "view-in-github",
        "colab_type": "text"
      },
      "source": [
        "<a href=\"https://colab.research.google.com/github/JoeArmel/JoeArmel/blob/main/OCR_WORDS_FILE.ipynb\" target=\"_parent\"><img src=\"https://colab.research.google.com/assets/colab-badge.svg\" alt=\"Open In Colab\"/></a>"
      ]
    },
    {
      "cell_type": "markdown",
      "metadata": {
        "id": "YJCrTuez0yYk"
      },
      "source": [
        "# ANALYSE DES MOTS ECRITS A LA MAIN"
      ]
    },
    {
      "cell_type": "markdown",
      "metadata": {
        "id": "UgpTJrPr0yYn"
      },
      "source": [
        "## Création d'un dataframe contenant les chemin d'accès aux différents fichiers"
      ]
    },
    {
      "cell_type": "code",
      "execution_count": null,
      "metadata": {
        "id": "tSdknTGj0yYq"
      },
      "outputs": [],
      "source": [
        "import os\n",
        "import glob\n",
        "import pathlib\n",
        "import pandas as pd"
      ]
    },
    {
      "cell_type": "markdown",
      "metadata": {
        "id": "EuK_a4RS0yYu"
      },
      "source": [
        "### Indication du chemin d'accès aux différentes images et décompte de celles-ci."
      ]
    },
    {
      "cell_type": "code",
      "execution_count": null,
      "metadata": {
        "id": "3jAlw_ka0yYy",
        "outputId": "e5a5f9f3-6d11-4cd3-ba02-9c13c9594c54"
      },
      "outputs": [
        {
          "name": "stdout",
          "output_type": "stream",
          "text": [
            "Nombre de fichiers images de mots : 115318\n"
          ]
        }
      ],
      "source": [
        "# Chemin d'accès aux fichiers de phrases. Ce sont tous des fichiers .png\n",
        "myDir = \"C:\\Armel\\DATASCIENTEST\\Formation\\Projet OCR\\words\"\n",
        "\n",
        "\n",
        "# Trouver toutes les chemins vers les fichiers qui finissent par .png\n",
        "data_dir = pathlib.Path(myDir)\n",
        "words = sorted(list(map(str, list(data_dir.glob(\"*/*/*.png\")))))\n",
        "\n",
        "# Nombre de fichiers trouvés\n",
        "words_count = len(words)\n",
        "print('Nombre de fichiers images de mots :',words_count)"
      ]
    },
    {
      "cell_type": "markdown",
      "metadata": {
        "id": "BUFDHr310yY4"
      },
      "source": [
        "### Construction d'un premier dataframe contenant les chemins d'accès et le nom des fichiers "
      ]
    },
    {
      "cell_type": "code",
      "execution_count": null,
      "metadata": {
        "id": "w3PZpm2A0yY7"
      },
      "outputs": [],
      "source": [
        "# Extraction du label de chaque image\n",
        "images = list(map(lambda x : [x, x.split('\\\\')[-1].split(\".png\")[0]], words))"
      ]
    },
    {
      "cell_type": "code",
      "execution_count": null,
      "metadata": {
        "id": "Rsbt9G7i0yY-",
        "outputId": "7aca7c12-5f48-403a-e441-e8e84c9139de"
      },
      "outputs": [
        {
          "data": {
            "text/html": [
              "<div>\n",
              "<style scoped>\n",
              "    .dataframe tbody tr th:only-of-type {\n",
              "        vertical-align: middle;\n",
              "    }\n",
              "\n",
              "    .dataframe tbody tr th {\n",
              "        vertical-align: top;\n",
              "    }\n",
              "\n",
              "    .dataframe thead th {\n",
              "        text-align: right;\n",
              "    }\n",
              "</style>\n",
              "<table border=\"1\" class=\"dataframe\">\n",
              "  <thead>\n",
              "    <tr style=\"text-align: right;\">\n",
              "      <th></th>\n",
              "      <th>filepath</th>\n",
              "      <th>words_id</th>\n",
              "    </tr>\n",
              "  </thead>\n",
              "  <tbody>\n",
              "    <tr>\n",
              "      <th>0</th>\n",
              "      <td>C:\\Armel\\DATASCIENTEST\\Formation\\Projet OCR\\wo...</td>\n",
              "      <td>a01-000u-00-00</td>\n",
              "    </tr>\n",
              "    <tr>\n",
              "      <th>1</th>\n",
              "      <td>C:\\Armel\\DATASCIENTEST\\Formation\\Projet OCR\\wo...</td>\n",
              "      <td>a01-000u-00-01</td>\n",
              "    </tr>\n",
              "    <tr>\n",
              "      <th>2</th>\n",
              "      <td>C:\\Armel\\DATASCIENTEST\\Formation\\Projet OCR\\wo...</td>\n",
              "      <td>a01-000u-00-02</td>\n",
              "    </tr>\n",
              "    <tr>\n",
              "      <th>3</th>\n",
              "      <td>C:\\Armel\\DATASCIENTEST\\Formation\\Projet OCR\\wo...</td>\n",
              "      <td>a01-000u-00-03</td>\n",
              "    </tr>\n",
              "    <tr>\n",
              "      <th>4</th>\n",
              "      <td>C:\\Armel\\DATASCIENTEST\\Formation\\Projet OCR\\wo...</td>\n",
              "      <td>a01-000u-00-04</td>\n",
              "    </tr>\n",
              "  </tbody>\n",
              "</table>\n",
              "</div>"
            ],
            "text/plain": [
              "                                            filepath        words_id\n",
              "0  C:\\Armel\\DATASCIENTEST\\Formation\\Projet OCR\\wo...  a01-000u-00-00\n",
              "1  C:\\Armel\\DATASCIENTEST\\Formation\\Projet OCR\\wo...  a01-000u-00-01\n",
              "2  C:\\Armel\\DATASCIENTEST\\Formation\\Projet OCR\\wo...  a01-000u-00-02\n",
              "3  C:\\Armel\\DATASCIENTEST\\Formation\\Projet OCR\\wo...  a01-000u-00-03\n",
              "4  C:\\Armel\\DATASCIENTEST\\Formation\\Projet OCR\\wo...  a01-000u-00-04"
            ]
          },
          "execution_count": 43,
          "metadata": {},
          "output_type": "execute_result"
        }
      ],
      "source": [
        "# Création d'un dataframe\n",
        "df = pd.DataFrame(images, columns=['filepath', 'words_id'])\n",
        "\n",
        "df.head()"
      ]
    },
    {
      "cell_type": "markdown",
      "metadata": {
        "id": "nNI7k3x60yZA"
      },
      "source": [
        "### Exploitation du fichier xml pour la construction d'un second dataframe [nom du fichier, transcription]"
      ]
    },
    {
      "cell_type": "markdown",
      "metadata": {
        "id": "F1bU7l8A0yZD"
      },
      "source": [
        "<ul> Cette exploitation a pour objectif de coupler la transcription du mot contenu dans l'image, au nom du fichier de ladite image. </ul>"
      ]
    },
    {
      "cell_type": "code",
      "execution_count": null,
      "metadata": {
        "id": "kV1ha4sU0yZF",
        "outputId": "2232831a-f0f2-4c16-e891-a129542d7363"
      },
      "outputs": [
        {
          "data": {
            "text/html": [
              "<div>\n",
              "<style scoped>\n",
              "    .dataframe tbody tr th:only-of-type {\n",
              "        vertical-align: middle;\n",
              "    }\n",
              "\n",
              "    .dataframe tbody tr th {\n",
              "        vertical-align: top;\n",
              "    }\n",
              "\n",
              "    .dataframe thead th {\n",
              "        text-align: right;\n",
              "    }\n",
              "</style>\n",
              "<table border=\"1\" class=\"dataframe\">\n",
              "  <thead>\n",
              "    <tr style=\"text-align: right;\">\n",
              "      <th></th>\n",
              "      <th>filepath</th>\n",
              "      <th>words_id</th>\n",
              "      <th>words</th>\n",
              "    </tr>\n",
              "  </thead>\n",
              "  <tbody>\n",
              "    <tr>\n",
              "      <th>0</th>\n",
              "      <td>C:\\Armel\\DATASCIENTEST\\Formation\\Projet OCR\\wo...</td>\n",
              "      <td>a01-000u-00-00</td>\n",
              "      <td>A</td>\n",
              "    </tr>\n",
              "    <tr>\n",
              "      <th>1</th>\n",
              "      <td>C:\\Armel\\DATASCIENTEST\\Formation\\Projet OCR\\wo...</td>\n",
              "      <td>a01-000u-00-01</td>\n",
              "      <td>MOVE</td>\n",
              "    </tr>\n",
              "    <tr>\n",
              "      <th>2</th>\n",
              "      <td>C:\\Armel\\DATASCIENTEST\\Formation\\Projet OCR\\wo...</td>\n",
              "      <td>a01-000u-00-02</td>\n",
              "      <td>to</td>\n",
              "    </tr>\n",
              "    <tr>\n",
              "      <th>3</th>\n",
              "      <td>C:\\Armel\\DATASCIENTEST\\Formation\\Projet OCR\\wo...</td>\n",
              "      <td>a01-000u-00-03</td>\n",
              "      <td>stop</td>\n",
              "    </tr>\n",
              "    <tr>\n",
              "      <th>4</th>\n",
              "      <td>C:\\Armel\\DATASCIENTEST\\Formation\\Projet OCR\\wo...</td>\n",
              "      <td>a01-000u-00-04</td>\n",
              "      <td>Mr.</td>\n",
              "    </tr>\n",
              "  </tbody>\n",
              "</table>\n",
              "</div>"
            ],
            "text/plain": [
              "                                            filepath        words_id words\n",
              "0  C:\\Armel\\DATASCIENTEST\\Formation\\Projet OCR\\wo...  a01-000u-00-00     A\n",
              "1  C:\\Armel\\DATASCIENTEST\\Formation\\Projet OCR\\wo...  a01-000u-00-01  MOVE\n",
              "2  C:\\Armel\\DATASCIENTEST\\Formation\\Projet OCR\\wo...  a01-000u-00-02    to\n",
              "3  C:\\Armel\\DATASCIENTEST\\Formation\\Projet OCR\\wo...  a01-000u-00-03  stop\n",
              "4  C:\\Armel\\DATASCIENTEST\\Formation\\Projet OCR\\wo...  a01-000u-00-04   Mr."
            ]
          },
          "execution_count": 53,
          "metadata": {},
          "output_type": "execute_result"
        }
      ],
      "source": [
        "#lecture du fichier XML créé précédement\n",
        "fichier_xml = './xml.csv'\n",
        "fichier = pd.read_csv(fichier_xml,index_col=[0])\n",
        "\n",
        "# Création du dataframe\n",
        "df1 = fichier[['id','text']]\n",
        "df1 = df1.rename({'id':'words_id','text':'words'}, axis = 1)\n",
        "\n",
        "#### Suppression des doulons.\n",
        "df1 = df_1.drop_duplicates()\n",
        "\n",
        "#### Tri par ordre croissant par rapport à la colonne 'words_id'.\n",
        "df1 = df1.sort_values(by ='words_id', axis= 0)\n",
        "\n",
        "# Couplage des deux dataframes et création de notre dataset.\n",
        "data = pd.merge(df, df1, on = ['words_id'])\n",
        "data.head()"
      ]
    },
    {
      "cell_type": "markdown",
      "metadata": {
        "id": "W1_TmHhM0yZJ"
      },
      "source": [
        "<ul> Ici nous avons choisi la méthode <b>'inner'</b> pour le couplage des deux dataframes car tous les fichiers semblent ne pas avoir de transcription.</ul>\n",
        "<ul> Ce qui parait logique vue la segmentation n'a pas été correcte pour tous les mots de chaque formulaire.</ul>\n",
        "<ul> Nous nous restreignons par conséquent aux fichiers dont la segmentation a été correcte.</ul> "
      ]
    },
    {
      "cell_type": "code",
      "execution_count": null,
      "metadata": {
        "id": "nvOtgxTi0yZL",
        "outputId": "c00a90b6-cf7f-4f75-9efb-c7029bcf3ebe"
      },
      "outputs": [
        {
          "data": {
            "text/html": [
              "<div>\n",
              "<style scoped>\n",
              "    .dataframe tbody tr th:only-of-type {\n",
              "        vertical-align: middle;\n",
              "    }\n",
              "\n",
              "    .dataframe tbody tr th {\n",
              "        vertical-align: top;\n",
              "    }\n",
              "\n",
              "    .dataframe thead th {\n",
              "        text-align: right;\n",
              "    }\n",
              "</style>\n",
              "<table border=\"1\" class=\"dataframe\">\n",
              "  <thead>\n",
              "    <tr style=\"text-align: right;\">\n",
              "      <th></th>\n",
              "      <th>filepath</th>\n",
              "      <th>words_id</th>\n",
              "      <th>words</th>\n",
              "      <th>label</th>\n",
              "    </tr>\n",
              "  </thead>\n",
              "  <tbody>\n",
              "    <tr>\n",
              "      <th>0</th>\n",
              "      <td>C:\\Armel\\DATASCIENTEST\\Formation\\Projet OCR\\wo...</td>\n",
              "      <td>a01-000u-00-00</td>\n",
              "      <td>A</td>\n",
              "      <td>0</td>\n",
              "    </tr>\n",
              "    <tr>\n",
              "      <th>1</th>\n",
              "      <td>C:\\Armel\\DATASCIENTEST\\Formation\\Projet OCR\\wo...</td>\n",
              "      <td>a01-000u-00-01</td>\n",
              "      <td>MOVE</td>\n",
              "      <td>1</td>\n",
              "    </tr>\n",
              "    <tr>\n",
              "      <th>2</th>\n",
              "      <td>C:\\Armel\\DATASCIENTEST\\Formation\\Projet OCR\\wo...</td>\n",
              "      <td>a01-000u-00-02</td>\n",
              "      <td>to</td>\n",
              "      <td>2</td>\n",
              "    </tr>\n",
              "    <tr>\n",
              "      <th>3</th>\n",
              "      <td>C:\\Armel\\DATASCIENTEST\\Formation\\Projet OCR\\wo...</td>\n",
              "      <td>a01-000u-00-03</td>\n",
              "      <td>stop</td>\n",
              "      <td>3</td>\n",
              "    </tr>\n",
              "    <tr>\n",
              "      <th>4</th>\n",
              "      <td>C:\\Armel\\DATASCIENTEST\\Formation\\Projet OCR\\wo...</td>\n",
              "      <td>a01-000u-00-04</td>\n",
              "      <td>Mr.</td>\n",
              "      <td>4</td>\n",
              "    </tr>\n",
              "    <tr>\n",
              "      <th>5</th>\n",
              "      <td>C:\\Armel\\DATASCIENTEST\\Formation\\Projet OCR\\wo...</td>\n",
              "      <td>a01-000u-00-05</td>\n",
              "      <td>Gaitskell</td>\n",
              "      <td>5</td>\n",
              "    </tr>\n",
              "    <tr>\n",
              "      <th>6</th>\n",
              "      <td>C:\\Armel\\DATASCIENTEST\\Formation\\Projet OCR\\wo...</td>\n",
              "      <td>a01-000u-00-06</td>\n",
              "      <td>from</td>\n",
              "      <td>6</td>\n",
              "    </tr>\n",
              "    <tr>\n",
              "      <th>7</th>\n",
              "      <td>C:\\Armel\\DATASCIENTEST\\Formation\\Projet OCR\\wo...</td>\n",
              "      <td>a01-000u-01-00</td>\n",
              "      <td>nominating</td>\n",
              "      <td>7</td>\n",
              "    </tr>\n",
              "    <tr>\n",
              "      <th>8</th>\n",
              "      <td>C:\\Armel\\DATASCIENTEST\\Formation\\Projet OCR\\wo...</td>\n",
              "      <td>a01-000u-01-01</td>\n",
              "      <td>any</td>\n",
              "      <td>8</td>\n",
              "    </tr>\n",
              "    <tr>\n",
              "      <th>9</th>\n",
              "      <td>C:\\Armel\\DATASCIENTEST\\Formation\\Projet OCR\\wo...</td>\n",
              "      <td>a01-000u-01-02</td>\n",
              "      <td>more</td>\n",
              "      <td>9</td>\n",
              "    </tr>\n",
              "  </tbody>\n",
              "</table>\n",
              "</div>"
            ],
            "text/plain": [
              "                                            filepath        words_id  \\\n",
              "0  C:\\Armel\\DATASCIENTEST\\Formation\\Projet OCR\\wo...  a01-000u-00-00   \n",
              "1  C:\\Armel\\DATASCIENTEST\\Formation\\Projet OCR\\wo...  a01-000u-00-01   \n",
              "2  C:\\Armel\\DATASCIENTEST\\Formation\\Projet OCR\\wo...  a01-000u-00-02   \n",
              "3  C:\\Armel\\DATASCIENTEST\\Formation\\Projet OCR\\wo...  a01-000u-00-03   \n",
              "4  C:\\Armel\\DATASCIENTEST\\Formation\\Projet OCR\\wo...  a01-000u-00-04   \n",
              "5  C:\\Armel\\DATASCIENTEST\\Formation\\Projet OCR\\wo...  a01-000u-00-05   \n",
              "6  C:\\Armel\\DATASCIENTEST\\Formation\\Projet OCR\\wo...  a01-000u-00-06   \n",
              "7  C:\\Armel\\DATASCIENTEST\\Formation\\Projet OCR\\wo...  a01-000u-01-00   \n",
              "8  C:\\Armel\\DATASCIENTEST\\Formation\\Projet OCR\\wo...  a01-000u-01-01   \n",
              "9  C:\\Armel\\DATASCIENTEST\\Formation\\Projet OCR\\wo...  a01-000u-01-02   \n",
              "\n",
              "        words  label  \n",
              "0           A      0  \n",
              "1        MOVE      1  \n",
              "2          to      2  \n",
              "3        stop      3  \n",
              "4         Mr.      4  \n",
              "5   Gaitskell      5  \n",
              "6        from      6  \n",
              "7  nominating      7  \n",
              "8         any      8  \n",
              "9        more      9  "
            ]
          },
          "execution_count": 68,
          "metadata": {},
          "output_type": "execute_result"
        }
      ],
      "source": [
        "data['label'] = data['words'].replace(data.words.unique(), [*range(len(data.words.unique()))])\n",
        "data.head(10)"
      ]
    },
    {
      "cell_type": "markdown",
      "metadata": {
        "id": "pIJEYzyI0yZN"
      },
      "source": [
        "## VISUALISATION DE QUELQUES IMAGES AVEC LEUR TRANSCRIPTION"
      ]
    },
    {
      "cell_type": "code",
      "execution_count": null,
      "metadata": {
        "id": "V3IjR3rT0yZN",
        "outputId": "d84eb811-fec7-479a-a8ca-5195e9e1d14f"
      },
      "outputs": [
        {
          "data": {
            "image/png": "[encoded data removed]",
            "text/plain": [
              "<Figure size 1008x504 with 15 Axes>"
            ]
          },
          "metadata": {
            "needs_background": "light"
          },
          "output_type": "display_data"
        }
      ],
      "source": [
        "import tensorflow as tf\n",
        "import matplotlib.pyplot as plt \n",
        "from matplotlib.image import imread\n",
        "import numpy as np\n",
        "\n",
        "#Visualisation aléatoire de quelques données images.\n",
        "plt.figure(figsize=(14, 7))\n",
        "\n",
        "j=1\n",
        "for i in np.random.choice(range(data.shape[0]), size = 15):\n",
        "    ax = plt.subplot(3, 5, j)\n",
        "    plt.imshow(imread(data.filepath[i]), cmap='gray')\n",
        "    plt.title(data.words[i])\n",
        "    j+=1\n",
        "    plt.axis(\"off\")"
      ]
    },
    {
      "cell_type": "code",
      "execution_count": null,
      "metadata": {
        "id": "RtaFsHxA0yZO"
      },
      "outputs": [],
      "source": [
        "# Autre visualisation\n",
        "\n",
        "plt.figure(figsize=(14, 7))\n",
        "\n",
        "j=1\n",
        "for i in np.random.choice(range(data.shape[0]), size = 15):\n",
        "    ax = plt.subplot(3, 5, j)\n",
        "    \n",
        "    # Lecture du fichier numéro i\n",
        "    im = tf.io.read_file(data.filepath[i])\n",
        "    # Decodage du fichier numéro i\n",
        "    im = tf.image.decode_png(im, channels=1)\n",
        "    # visualisation du tenseur\n",
        "    plt.imshow(im)\n",
        "    j+=1\n",
        "    plt.axis(\"off\")"
      ]
    },
    {
      "cell_type": "markdown",
      "metadata": {
        "id": "Z-NHamGH0yZQ"
      },
      "source": [
        "## Preprocessing"
      ]
    },
    {
      "cell_type": "code",
      "execution_count": null,
      "metadata": {
        "id": "As4Owg0k0yZR",
        "outputId": "dcc32738-320f-47df-af43-b285947e466d"
      },
      "outputs": [
        {
          "data": {
            "text/plain": [
              "13550"
            ]
          },
          "execution_count": 55,
          "metadata": {},
          "output_type": "execute_result"
        }
      ],
      "source": [
        "len(data.words.unique())"
      ]
    },
    {
      "cell_type": "markdown",
      "metadata": {
        "id": "YaXgT1_Y0yZT"
      },
      "source": [
        "### Encodage et uniformisation de l'encodage des mots "
      ]
    },
    {
      "cell_type": "code",
      "execution_count": null,
      "metadata": {
        "id": "q-VhWB6w0yZU"
      },
      "outputs": [],
      "source": [
        "import string\n",
        "from tensorflow import keras"
      ]
    },
    {
      "cell_type": "markdown",
      "metadata": {
        "id": "qeopbpgZ0yZV"
      },
      "source": [
        "<ul> La fonction definie ci-dessous va permettre d'encoder chaque caractère présent dans la transcription de chaque image. L'objectif ici étant de pouvoir encoder chaque mot transcrit à l'aide des différents caractères qui le constituent.</ul>"
      ]
    },
    {
      "cell_type": "code",
      "execution_count": null,
      "metadata": {
        "id": "W7QWQsdf0yZW"
      },
      "outputs": [],
      "source": [
        "# char_list:   'abcdefghijklmnopqrstuvwxyzABCDEFGHIJKLMNOPQRSTUVWXYZ0123456789'\n",
        "# total number of our output classes: len(char_list)\n",
        "char_list = string.ascii_letters+string.digits\n",
        "\n",
        "def encode_to_labels(txt):\n",
        "    ''' Cette fonction transforme un mot en une liste de nombres.\n",
        "    chaque nombre indique le rang de la lettre qu'il remplace.\n",
        "    La liste a la même longueur que le mot qu'il représente.    ''' \n",
        "    \n",
        "    dig_lst = []\n",
        "    for index, char in enumerate(txt):\n",
        "        try:\n",
        "            dig_lst.append(char_list.index(char))\n",
        "        except:\n",
        "            print(char)\n",
        "        \n",
        "    return dig_lst"
      ]
    },
    {
      "cell_type": "code",
      "execution_count": null,
      "metadata": {
        "id": "xSdojVeO0yZY"
      },
      "outputs": [],
      "source": [
        "def get_max_label_len(liste):\n",
        "        \n",
        "        '''Cette fonction identifie le mot le plus long dans une liste de mots.'''\n",
        "        \n",
        "        max_label_len = 0\n",
        "        \n",
        "        for index in range(len(liste)):\n",
        "            txt = liste[index]\n",
        "            \n",
        "            if len(txt) > max_label_len:\n",
        "                max_label_len = len(txt)\n",
        "                \n",
        "        return max_label_len"
      ]
    },
    {
      "cell_type": "markdown",
      "metadata": {
        "id": "-UWdmM5k0yZZ"
      },
      "source": [
        "<ul>A présent, nous allons appliquer ces deux fonctions au dataframe 'data' en vue de l'encodage de la colonne 'words'.</ul>"
      ]
    },
    {
      "cell_type": "code",
      "execution_count": null,
      "metadata": {
        "id": "4npYU8xc0yZa"
      },
      "outputs": [],
      "source": [
        "# Nous commençons par encoder chaque mot à l'aide de la fonction encode_to_labels\n",
        "\n",
        "data['encoded_words'] = data.words.apply(lambda txt: encode_to_labels(txt))\n",
        "\n",
        "# Nous notons ensuite la valeur du plus long encodage grâce à la fonction get_max_label_len\n",
        "max_label_len = get_max_label_len(data['encoded_words'])"
      ]
    },
    {
      "cell_type": "markdown",
      "metadata": {
        "id": "l4xyhytS0yZb"
      },
      "source": [
        "#### Uniformisation de l'encodage"
      ]
    },
    {
      "cell_type": "code",
      "execution_count": null,
      "metadata": {
        "id": "2Ezt8C3I0yZc"
      },
      "outputs": [],
      "source": [
        "# Nous créons ici un array numpy pour procéder à l'uniformisation de l'encodage \n",
        "liste = data['encoded_words'].to_numpy()\n",
        "\n",
        "# Uniformisation\n",
        "\n",
        "pad_words = keras.preprocessing.sequence.pad_sequences(liste, maxlen= max_label_len, padding='post', value = len(char_list))"
      ]
    },
    {
      "cell_type": "markdown",
      "metadata": {
        "id": "3dz7-FS50yZd"
      },
      "source": [
        "#### Mise à jour du dataframe avec l'encodage uniformisé"
      ]
    },
    {
      "cell_type": "code",
      "execution_count": null,
      "metadata": {
        "id": "J7lGPBci0yZd"
      },
      "outputs": [],
      "source": [
        "# Duplication de la colonne ['encoded_words'] avec pour titre ['padded_words']\n",
        "\n",
        "data['padded_words'] = data['encoded_words']\n",
        "\n",
        "\n",
        "# Mise à jour de la colonne ['padded_words']\n",
        "\n",
        "for index in range(len(data['padded_words'])):\n",
        "    data['padded_words'][index] = pad_words[index]"
      ]
    },
    {
      "cell_type": "code",
      "execution_count": null,
      "metadata": {
        "id": "TMKm78zN0yZe"
      },
      "outputs": [],
      "source": [
        ""
      ]
    },
    {
      "cell_type": "code",
      "execution_count": null,
      "metadata": {
        "id": "I1el0bzS0yZe"
      },
      "outputs": [],
      "source": [
        ""
      ]
    },
    {
      "cell_type": "code",
      "execution_count": null,
      "metadata": {
        "id": "CvyOGfZS0yZe"
      },
      "outputs": [],
      "source": [
        ""
      ]
    },
    {
      "cell_type": "code",
      "execution_count": null,
      "metadata": {
        "id": "hNCuIlNf0yZf"
      },
      "outputs": [],
      "source": [
        "img_height = 32\n",
        "img_width = 128\n",
        "\n",
        "# Conversion de chaque image en image de dimension (32, 128, 1)\n",
        "        h, w = img.shape\n",
        "        if w > 128 or h > 32:\n",
        "            continue\n",
        "        if h < 32:\n",
        "            add_zeros = np.ones((w, 32-h))*255\n",
        "            img = np.concatenate((img, add_zeros), axis = 1)\n",
        " \n",
        "        if w < 128:\n",
        "            add_zeros = np.ones((128-w, 32))*255\n",
        "            img = np.concatenate((img, add_zeros))\n",
        "        img = np.expand_dims(img , axis = 2)\n",
        "        \n",
        "# Normaliser chaque image\n",
        "        img = img/255."
      ]
    },
    {
      "cell_type": "code",
      "execution_count": null,
      "metadata": {
        "id": "trEVJJRB0yZf"
      },
      "outputs": [],
      "source": [
        ""
      ]
    },
    {
      "cell_type": "code",
      "execution_count": null,
      "metadata": {
        "id": "unyvjFB70yZf"
      },
      "outputs": [],
      "source": [
        "# lists for training dataset\n",
        "training_img = []\n",
        "training_txt = []\n",
        "train_input_length = []\n",
        "train_label_length = []\n",
        "orig_txt = []\n",
        " \n",
        "#lists for validation dataset\n",
        "valid_img = []\n",
        "valid_txt = []\n",
        "valid_input_length = []\n",
        "valid_label_length = []\n",
        "valid_orig_txt = []\n",
        " \n",
        "max_label_len = 0\n",
        " \n",
        "i =1 \n",
        "flag = 0\n",
        "\n",
        "for root, dirnames, filenames in os.walk(path):\n",
        " \n",
        "    for f_name in fnmatch.filter(filenames, '*.jpg'):\n",
        "        # read input image and convert into gray scale image\n",
        "        img = cv2.cvtColor(cv2.imread(os.path.join(root, f_name)), cv2.COLOR_BGR2GRAY)   \n",
        " \n",
        "        # convert each image of shape (32, 128, 1)\n",
        "        w, h = img.shape\n",
        "        if h > 128 or w > 32:\n",
        "            continue\n",
        "        if w < 32:\n",
        "            add_zeros = np.ones((32-w, h))*255\n",
        "            img = np.concatenate((img, add_zeros))\n",
        " \n",
        "        if h < 128:\n",
        "            add_zeros = np.ones((32, 128-h))*255\n",
        "            img = np.concatenate((img, add_zeros), axis=1)\n",
        "        img = np.expand_dims(img , axis = 2)\n",
        "        \n",
        "        # Normalize each image\n",
        "        img = img/255.\n",
        "        \n",
        "        # get the text from the image\n",
        "        txt = f_name.split('_')[1]\n",
        "        \n",
        "        # compute maximum length of the text\n",
        "        if len(txt) > max_label_len:\n",
        "            max_label_len = len(txt)\n",
        "            \n",
        "           \n",
        "        # split the 150000 data into validation and training dataset as 10% and 90% respectively\n",
        "        if i%10 == 0:     \n",
        "            valid_orig_txt.append(txt)   \n",
        "            valid_label_length.append(len(txt))\n",
        "            valid_input_length.append(31)\n",
        "            valid_img.append(img)\n",
        "            valid_txt.append(encode_to_labels(txt))\n",
        "        else:\n",
        "            orig_txt.append(txt)   \n",
        "            train_label_length.append(len(txt))\n",
        "            train_input_length.append(31)\n",
        "            training_img.append(img)\n",
        "            training_txt.append(encode_to_labels(txt)) \n",
        "        \n",
        "        # break the loop if total data is 150000\n",
        "        if i == 150000:\n",
        "            flag = 1\n",
        "            break\n",
        "        i+=1\n",
        "    if flag == 1:\n",
        "        break\n",
        "        \n",
        "# pad each output label to maximum text length\n",
        " \n",
        "train_padded_txt = pad_sequences(training_txt, maxlen=max_label_len, padding='post', value = len(char_list))\n",
        "valid_padded_txt = pad_sequences(valid_txt, maxlen=max_label_len, padding='post', value = len(char_list))\n"
      ]
    },
    {
      "cell_type": "code",
      "execution_count": null,
      "metadata": {
        "id": "LYquCJou0yZg"
      },
      "outputs": [],
      "source": [
        ""
      ]
    },
    {
      "cell_type": "code",
      "execution_count": null,
      "metadata": {
        "id": "UHnieKjz0yZh"
      },
      "outputs": [],
      "source": [
        ""
      ]
    },
    {
      "cell_type": "code",
      "execution_count": null,
      "metadata": {
        "id": "WEdVFeD40yZh"
      },
      "outputs": [],
      "source": [
        ""
      ]
    },
    {
      "cell_type": "code",
      "execution_count": null,
      "metadata": {
        "id": "ay6zttS-0yZh"
      },
      "outputs": [],
      "source": [
        ""
      ]
    },
    {
      "cell_type": "code",
      "execution_count": null,
      "metadata": {
        "id": "DmVand_S0yZi"
      },
      "outputs": [],
      "source": [
        ""
      ]
    },
    {
      "cell_type": "code",
      "execution_count": null,
      "metadata": {
        "id": "QtzkdMRX0yZi"
      },
      "outputs": [],
      "source": [
        "from sklearn.model_selection import train_test_split\n",
        "from tqdm import tqdm\n",
        "import numpy as np"
      ]
    },
    {
      "cell_type": "code",
      "execution_count": null,
      "metadata": {
        "id": "6xbuOFDK0yZi",
        "outputId": "dc65cf23-958f-410b-d9c8-a6eaf855c3bc"
      },
      "outputs": [
        {
          "name": "stderr",
          "output_type": "stream",
          "text": [
            "100%|██████████| 23038/23038 [01:15<00:00, 304.73it/s]\n"
          ]
        }
      ],
      "source": [
        "X_train_path, X_test_path, y_train, y_test = train_test_split(data.filepath, data.label, train_size = .8, random_state = 1234)\n",
        "\n",
        "# On charge les images de X_test_path redimensionnées à [128, 32, 1] en mémoire dans la variable X_test.\n",
        "X_test = []\n",
        "for filepath in tqdm(X_test_path):\n",
        "    # Read the file\n",
        "    im = tf.io.read_file(filepath)\n",
        "    # Decode the file\n",
        "    im = tf.image.decode_png(im, channels=1)\n",
        "    # Resizing\n",
        "    im = tf.image.resize(im, size=(128, 32))\n",
        "    X_test.append([im])\n",
        "    \n",
        "X_test = tf.concat(X_test, axis=0)"
      ]
    },
    {
      "cell_type": "code",
      "execution_count": null,
      "metadata": {
        "id": "-wPMeVxS0yZj",
        "outputId": "d519b237-c609-4fe2-8a74-41d0ff001009"
      },
      "outputs": [
        {
          "name": "stdout",
          "output_type": "stream",
          "text": [
            "WARNING:tensorflow:AutoGraph could not transform <function <lambda> at 0x000001823858E168> and will run it as-is.\n",
            "Please report this to the TensorFlow team. When filing the bug, set the verbosity to 10 (on Linux, `export AUTOGRAPH_VERBOSITY=10`) and attach the full output.\n",
            "Cause: 'arguments' object has no attribute 'posonlyargs'\n",
            "To silence this warning, decorate the function with @tf.autograph.experimental.do_not_convert\n",
            "WARNING: AutoGraph could not transform <function <lambda> at 0x000001823858E168> and will run it as-is.\n",
            "Please report this to the TensorFlow team. When filing the bug, set the verbosity to 10 (on Linux, `export AUTOGRAPH_VERBOSITY=10`) and attach the full output.\n",
            "Cause: 'arguments' object has no attribute 'posonlyargs'\n",
            "To silence this warning, decorate the function with @tf.autograph.experimental.do_not_convert\n"
          ]
        }
      ],
      "source": [
        "# Fonction load_image avec comme argument filepath retournant une image redimensionnée en (80,120).\n",
        "def load_image(filepath, resize=(128, 32)):\n",
        "    im = tf.io.read_file(filepath)\n",
        "    im = tf.image.decode_png(im, channels=1)\n",
        "    return tf.image.resize(im, resize)\n",
        "\n",
        "\n",
        "# Définition d'un dataset dataset_train de (X_train_path, y_train) à l'aide de la fonction from_tensor_slices.\n",
        "dataset_train = tf.data.Dataset.from_tensor_slices((X_train_path, y_train))\n",
        "\n",
        "\n",
        "AUTOTUNE = tf.data.experimental.AUTOTUNE\n",
        "\n",
        "# Application de load_image à X_train_path ## argument num_parallel_calls = AUTOTUNE (multi-tasking)\n",
        "\n",
        "dataset_train = dataset_train.map(lambda x, y : [load_image(x), y], num_parallel_calls = AUTOTUNE)"
      ]
    },
    {
      "cell_type": "code",
      "execution_count": null,
      "metadata": {
        "id": "au5SS6Fd0yZj"
      },
      "outputs": [],
      "source": [
        "batch_size = 200\n",
        "\n",
        "def configure_for_performance(ds):\n",
        "    ds = ds.cache()                                      #\n",
        "    ds = ds.shuffle(buffer_size=1000)                    # Mélange de façon aléatoire le jeu de données\n",
        "    ds = ds.batch(batch_size)                            # Regrouper les observations sous forme de batch de taille 200\n",
        "    ds = ds.prefetch(buffer_size=AUTOTUNE)               #\n",
        "    return ds\n",
        "\n",
        "dataset_train = configure_for_performance(dataset_train)\n",
        "#val_ds = configure_for_performance(val_ds)"
      ]
    },
    {
      "cell_type": "markdown",
      "metadata": {
        "id": "ezt-2o_L0yZk"
      },
      "source": [
        "# Le modèle"
      ]
    },
    {
      "cell_type": "code",
      "execution_count": null,
      "metadata": {
        "id": "eNJ0tCe90yZk"
      },
      "outputs": [],
      "source": [
        "from tensorflow.keras.layers import Conv2D, Conv2DTranspose, BatchNormalization, MaxPooling2D, LeakyReLU, Lambda, Dense, Dropout\n",
        "from tensorflow.keras.layers import GRU, Bidirectional\n",
        "from keras.utils.vis_utils import plot_model\n",
        "numHidden = 256\n",
        "alphabet = ' abcdefghijklmnopqrstuvwxyzABCDEFGHIJKLMNOPQRSTUVWXYZ'"
      ]
    },
    {
      "cell_type": "code",
      "execution_count": null,
      "metadata": {
        "id": "Uhs5ILO00yZl"
      },
      "outputs": [],
      "source": [
        "# input with shape of height=32 and width=128 \n",
        "inputs = Input(shape=)\n",
        "\n",
        "model = tf.keras.Sequential()\n",
        "\n",
        "# Convolution Part : Extraction Feature\n",
        "\n",
        "# Layer 1\n",
        "model.add(Conv2D(64, (3,3), input_shape = (32, 128, 1), activation = 'relu', padding='same'))\n",
        "model.add(MaxPool2D(pool_size = (2, 2), strides = 2))\n",
        "\n",
        "# Layer 2\n",
        "model.add(Conv2D(128, (3,3), activation = 'relu', padding='same'))\n",
        "model.add(MaxPool2D(pool_size = (2, 2), strides = 2))\n",
        "\n",
        "# Layer 3\n",
        "model.add(Conv2D(256, (3,3), activation = 'relu', padding='same'))\n",
        "\n",
        "# Layer 4\n",
        "model.add(Conv2D(256, (3,3), activation = 'relu', padding='same'))\n",
        "model.add(MaxPool2D(pool_size = (2, 1)))\n",
        "\n",
        "# Layer 5\n",
        "model.add(Conv2D(512, (3,3), activation = 'relu', padding='same'))\n",
        "model.add(BatchNormalization())\n",
        "\n",
        "# Layer 6\n",
        "model.add(Conv2D(512, (3,3), activation = 'relu', padding='same'))\n",
        "model.add(BatchNormalization())\n",
        "model.add(MaxPool2D(pool_size=(2, 1)))\n",
        "\n",
        "# Layer 7\n",
        "model.add(Conv2D(512, (2,2), activation = 'relu'))\n",
        "model.add(Lambda(lambda x: K.squeeze(x, 1)))\n",
        "\n",
        "\n",
        "# bidirectional LSTM layers with units=128\n",
        "model.add(Bidirectional(LSTM(128, return_sequences=True, dropout = 0.2)))\n",
        "model.add(Bidirectional(LSTM(128, return_sequences=True, dropout = 0.2)))\n",
        " \n",
        "model.add(Dense(len(char_list)+1, activation = 'softmax'))\n",
        " \n",
        "act_model = Model(inputs, outputs)"
      ]
    },
    {
      "cell_type": "code",
      "execution_count": null,
      "metadata": {
        "id": "O3ptDMK10yZl"
      },
      "outputs": [],
      "source": [
        ""
      ]
    },
    {
      "cell_type": "code",
      "execution_count": null,
      "metadata": {
        "id": "G2Bfqos20yZm"
      },
      "outputs": [],
      "source": [
        ""
      ]
    },
    {
      "cell_type": "code",
      "execution_count": null,
      "metadata": {
        "id": "0ohzAOGb0yZm"
      },
      "outputs": [],
      "source": [
        "def build_model():\n",
        "    # Inputs to the model\n",
        "    input_img = layers.Input(\n",
        "        shape=(img_width, img_height, 1), name=\"image\", dtype=\"float32\"\n",
        "    )\n",
        "    labels = layers.Input(name=\"label\", shape=(None,), dtype=\"float32\")\n",
        "\n",
        "    # First conv block\n",
        "    x = layers.Conv2D(\n",
        "        32,\n",
        "        (3, 3),\n",
        "        activation=\"relu\",\n",
        "        kernel_initializer=\"he_normal\",\n",
        "        padding=\"same\",\n",
        "        name=\"Conv1\",\n",
        "    )(input_img)\n",
        "    x = layers.MaxPooling2D((2, 2), name=\"pool1\")(x)\n",
        "\n",
        "    # Second conv block\n",
        "    x = layers.Conv2D(\n",
        "        64,\n",
        "        (3, 3),\n",
        "        activation=\"relu\",\n",
        "        kernel_initializer=\"he_normal\",\n",
        "        padding=\"same\",\n",
        "        name=\"Conv2\",\n",
        "    )(x)\n",
        "    x = layers.MaxPooling2D((2, 2), name=\"pool2\")(x)\n",
        "\n",
        "    # We have used two max pool with pool size and strides 2.\n",
        "    # Hence, downsampled feature maps are 4x smaller. The number of\n",
        "    # filters in the last layer is 64. Reshape accordingly before\n",
        "    # passing the output to the RNN part of the model\n",
        "    new_shape = ((img_width // 4), (img_height // 4) * 64)\n",
        "    x = layers.Reshape(target_shape=new_shape, name=\"reshape\")(x)\n",
        "    x = layers.Dense(64, activation=\"relu\", name=\"dense1\")(x)\n",
        "    x = layers.Dropout(0.2)(x)\n",
        "\n",
        "    # RNNs\n",
        "    x = layers.Bidirectional(layers.LSTM(128, return_sequences=True, dropout=0.25))(x)\n",
        "    x = layers.Bidirectional(layers.LSTM(64, return_sequences=True, dropout=0.25))(x)\n",
        "\n",
        "    # Output layer\n",
        "    x = layers.Dense(len(characters) + 1, activation=\"softmax\", name=\"dense2\")(x)\n",
        "\n",
        "    # Add CTC layer for calculating CTC loss at each step\n",
        "    output = CTCLayer(name=\"ctc_loss\")(labels, x)\n",
        "\n",
        "    # Define the model\n",
        "    model = keras.models.Model(\n",
        "        inputs=[input_img, labels], outputs=output, name=\"ocr_model_v1\"\n",
        "    )\n",
        "    # Optimizer\n",
        "    opt = keras.optimizers.Adam()\n",
        "    # Compile the model and return\n",
        "    model.compile(optimizer=opt)\n",
        "    return model\n",
        "\n",
        "\n",
        "# Get the model\n",
        "model = build_model()\n",
        "model.summary()"
      ]
    },
    {
      "cell_type": "code",
      "execution_count": null,
      "metadata": {
        "id": "saspI13y0yZn"
      },
      "outputs": [],
      "source": [
        ""
      ]
    },
    {
      "cell_type": "code",
      "execution_count": null,
      "metadata": {
        "id": "R5qhUYEj0yZn"
      },
      "outputs": [],
      "source": [
        ""
      ]
    },
    {
      "cell_type": "code",
      "execution_count": null,
      "metadata": {
        "id": "oD8l5B9V0yZn"
      },
      "outputs": [],
      "source": [
        ""
      ]
    },
    {
      "cell_type": "code",
      "execution_count": null,
      "metadata": {
        "id": "XZrL_lMR0yZo"
      },
      "outputs": [],
      "source": [
        "Définitionde de la fonction de perte CTC"
      ]
    },
    {
      "cell_type": "code",
      "execution_count": null,
      "metadata": {
        "id": "kAvOlpd80yZo"
      },
      "outputs": [],
      "source": [
        "labels = Input(name='the_labels', shape=[max_label_len], dtype='float32')\n",
        "input_length = Input(name='input_length', shape=[1], dtype='int64')\n",
        "label_length = Input(name='label_length', shape=[1], dtype='int64')\n",
        " \n",
        "\n",
        "def ctc_lambda_func(args):\n",
        "    y_pred, labels, input_length, label_length = args\n",
        " \n",
        "    return K.ctc_batch_cost(labels, y_pred, input_length, label_length)\n",
        " \n",
        "\n",
        "loss_out = Lambda(ctc_lambda_func, output_shape=(1,), name='ctc')([outputs, labels, input_length, label_length])\n",
        "model = Model(inputs=[inputs, labels, input_length, label_length], outputs=loss_out)"
      ]
    },
    {
      "cell_type": "code",
      "execution_count": null,
      "metadata": {
        "id": "Y6eNbOzN0yZp"
      },
      "outputs": [],
      "source": [
        ""
      ]
    },
    {
      "cell_type": "code",
      "execution_count": null,
      "metadata": {
        "id": "HzGQvbwl0yZp"
      },
      "outputs": [],
      "source": [
        "class CTCLayer(layers.Layer):\n",
        "    def __init__(self, name=None):\n",
        "        super().__init__(name=name)\n",
        "        self.loss_fn = keras.backend.ctc_batch_cost\n",
        "\n",
        "    def call(self, y_true, y_pred):\n",
        "        # Compute the training-time loss value and add it\n",
        "        # to the layer using `self.add_loss()`.\n",
        "        batch_len = tf.cast(tf.shape(y_true)[0], dtype=\"int64\")\n",
        "        input_length = tf.cast(tf.shape(y_pred)[1], dtype=\"int64\")\n",
        "        label_length = tf.cast(tf.shape(y_true)[1], dtype=\"int64\")\n",
        "\n",
        "        input_length = input_length * tf.ones(shape=(batch_len, 1), dtype=\"int64\")\n",
        "        label_length = label_length * tf.ones(shape=(batch_len, 1), dtype=\"int64\")\n",
        "\n",
        "        loss = self.loss_fn(y_true, y_pred, input_length, label_length)\n",
        "        self.add_loss(loss)\n",
        "\n",
        "        # At test time, just return the computed predictions\n",
        "        return y_pred"
      ]
    },
    {
      "cell_type": "code",
      "execution_count": null,
      "metadata": {
        "id": "B1WBGjXf0yZp"
      },
      "outputs": [],
      "source": [
        ""
      ]
    },
    {
      "cell_type": "code",
      "execution_count": null,
      "metadata": {
        "id": "HOkxzmWe0yZp",
        "outputId": "5bd5e733-15ad-4d61-b145-ac5ab51f9bef"
      },
      "outputs": [
        {
          "name": "stdout",
          "output_type": "stream",
          "text": [
            "Model: \"sequential_4\"\n",
            "_________________________________________________________________\n",
            "Layer (type)                 Output Shape              Param #   \n",
            "=================================================================\n",
            "conv2d_20 (Conv2D)           (None, 128, 32, 32)       832       \n",
            "_________________________________________________________________\n",
            "batch_normalization_20 (Batc (None, 128, 32, 32)       128       \n",
            "_________________________________________________________________\n",
            "leaky_re_lu_20 (LeakyReLU)   (None, 128, 32, 32)       0         \n",
            "_________________________________________________________________\n",
            "max_pooling2d_20 (MaxPooling (None, 64, 16, 32)        0         \n",
            "_________________________________________________________________\n",
            "conv2d_21 (Conv2D)           (None, 64, 16, 64)        51264     \n",
            "_________________________________________________________________\n",
            "batch_normalization_21 (Batc (None, 64, 16, 64)        256       \n",
            "_________________________________________________________________\n",
            "leaky_re_lu_21 (LeakyReLU)   (None, 64, 16, 64)        0         \n",
            "_________________________________________________________________\n",
            "max_pooling2d_21 (MaxPooling (None, 32, 8, 64)         0         \n",
            "_________________________________________________________________\n",
            "conv2d_22 (Conv2D)           (None, 32, 8, 128)        73856     \n",
            "_________________________________________________________________\n",
            "batch_normalization_22 (Batc (None, 32, 8, 128)        512       \n",
            "_________________________________________________________________\n",
            "leaky_re_lu_22 (LeakyReLU)   (None, 32, 8, 128)        0         \n",
            "_________________________________________________________________\n",
            "max_pooling2d_22 (MaxPooling (None, 32, 4, 128)        0         \n",
            "_________________________________________________________________\n",
            "conv2d_23 (Conv2D)           (None, 32, 4, 128)        147584    \n",
            "_________________________________________________________________\n",
            "batch_normalization_23 (Batc (None, 32, 4, 128)        512       \n",
            "_________________________________________________________________\n",
            "leaky_re_lu_23 (LeakyReLU)   (None, 32, 4, 128)        0         \n",
            "_________________________________________________________________\n",
            "max_pooling2d_23 (MaxPooling (None, 32, 2, 128)        0         \n",
            "_________________________________________________________________\n",
            "conv2d_24 (Conv2D)           (None, 32, 2, 256)        295168    \n",
            "_________________________________________________________________\n",
            "batch_normalization_24 (Batc (None, 32, 2, 256)        1024      \n",
            "_________________________________________________________________\n",
            "leaky_re_lu_24 (LeakyReLU)   (None, 32, 2, 256)        0         \n",
            "_________________________________________________________________\n",
            "max_pooling2d_24 (MaxPooling (None, 32, 1, 256)        0         \n",
            "_________________________________________________________________\n",
            "lambda_3 (Lambda)            (None, 32, 256)           0         \n",
            "_________________________________________________________________\n",
            "bidirectional_2 (Bidirection (None, 32, 512)           789504    \n",
            "_________________________________________________________________\n",
            "dense (Dense)                (None, 32, 54)            27702     \n",
            "=================================================================\n",
            "Total params: 1,388,342\n",
            "Trainable params: 1,387,126\n",
            "Non-trainable params: 1,216\n",
            "_________________________________________________________________\n"
          ]
        }
      ],
      "source": [
        "model_ocr = tf.keras.Sequential()\n",
        "\n",
        "# Convolution Part : Extraction Feature\n",
        "# Layer 1\n",
        "model_ocr.add(Conv2D(filters=32, kernel_size=(5,5), padding='SAME', input_shape = (128, 32, 1)))\n",
        "model_ocr.add(BatchNormalization())\n",
        "model_ocr.add(LeakyReLU())\n",
        "model_ocr.add(MaxPooling2D(pool_size=(2,2), strides=(2,2)))\n",
        "\n",
        "# Layer 2\n",
        "model_ocr.add(Conv2D(filters=64, kernel_size=(5,5), padding='SAME'))\n",
        "model_ocr.add(BatchNormalization())\n",
        "model_ocr.add(LeakyReLU())\n",
        "model_ocr.add(MaxPooling2D(pool_size=(2,2), strides=(2,2)))\n",
        "\n",
        "# Layer 3\n",
        "model_ocr.add(Conv2D(filters=128, kernel_size=(3,3), padding='SAME'))\n",
        "model_ocr.add(BatchNormalization())\n",
        "model_ocr.add(LeakyReLU())\n",
        "model_ocr.add(MaxPooling2D(pool_size=(1,2), strides=(1,2)))\n",
        "\n",
        "# Layer 4\n",
        "model_ocr.add(Conv2D(filters=128, kernel_size=(3,3), padding='SAME'))\n",
        "model_ocr.add(BatchNormalization())\n",
        "model_ocr.add(LeakyReLU())\n",
        "model_ocr.add(MaxPooling2D(pool_size=(1,2), strides=(1,2)))\n",
        "\n",
        "# Layer 5\n",
        "model_ocr.add(Conv2D(filters=256, kernel_size=(3,3), padding='SAME'))\n",
        "model_ocr.add(BatchNormalization())\n",
        "model_ocr.add(LeakyReLU())\n",
        "model_ocr.add(MaxPooling2D(pool_size=(1,2), strides=(1,2)))\n",
        "\n",
        "# Recurrent Neural Part : Extraction Feature\n",
        "# Remove axis 2\n",
        "model_ocr.add(Lambda(lambda x :tf.squeeze(x, axis = 2)))\n",
        "\n",
        "# Bidirectionnal RNN\n",
        "model_ocr.add(Bidirectional(GRU(numHidden, return_sequences=True)))\n",
        "\n",
        "# Classification of characters\n",
        "model_ocr.add(Dense(len(alphabet)+1))\n",
        "\n",
        "model_ocr.summary()"
      ]
    },
    {
      "cell_type": "code",
      "execution_count": null,
      "metadata": {
        "id": "OXwUHCub0yZq"
      },
      "outputs": [],
      "source": [
        "model_ocr.compile(optimizer='adam',\n",
        "             loss = 'ctc_loss_prepare_fn',\n",
        "             metrics = ['accuracy'])"
      ]
    },
    {
      "cell_type": "markdown",
      "metadata": {
        "id": "hGiWjosz0yZr"
      },
      "source": [
        "# Entrainement"
      ]
    },
    {
      "cell_type": "code",
      "execution_count": null,
      "metadata": {
        "id": "FCJhl0af0yZr"
      },
      "outputs": [],
      "source": [
        "from tensorflow.keras import callbacks\n",
        "\n",
        "# Sauvegarde des poids à chaque epoch\n",
        "checkpoint = callbacks.ModelCheckpoint(filepath = 'checkpoint', \n",
        "                                       monitor = 'val_loss',\n",
        "                                       save_best_only = True,\n",
        "                                       save_weights_only = False,\n",
        "                                       mode = 'min',\n",
        "                                       save_freq = 'epoch')\n",
        "\n",
        "# Callback pour diminuer le learning rate si la métrique de validation ne s'améliore pas dans les 5 dernières époques.\n",
        "lr_plateau = callbacks.ReduceLROnPlateau(monitor = 'val_loss',\n",
        "                                         patience=5,\n",
        "                                         factor=0.1,\n",
        "                                         verbose=2,\n",
        "                                         mode='min')\n",
        "\n",
        "# Entraînement du modèle à l'aide la méthode fit sur 10 epochs\n",
        "model.fit(dataset_train,\n",
        "          epochs=10, \n",
        "          validation_data=(X_test, y_test), \n",
        "          callbacks = [lr_plateau, checkpoint])"
      ]
    },
    {
      "cell_type": "code",
      "execution_count": null,
      "metadata": {
        "id": "8R7uHiD60yZs",
        "outputId": "fe175538-24a3-4a61-d6aa-2dd98af34acb"
      },
      "outputs": [
        {
          "data": {
            "text/html": [
              "<div>\n",
              "<style scoped>\n",
              "    .dataframe tbody tr th:only-of-type {\n",
              "        vertical-align: middle;\n",
              "    }\n",
              "\n",
              "    .dataframe tbody tr th {\n",
              "        vertical-align: top;\n",
              "    }\n",
              "\n",
              "    .dataframe thead th {\n",
              "        text-align: right;\n",
              "    }\n",
              "</style>\n",
              "<table border=\"1\" class=\"dataframe\">\n",
              "  <thead>\n",
              "    <tr style=\"text-align: right;\">\n",
              "      <th></th>\n",
              "      <th>filepath</th>\n",
              "      <th>words_id</th>\n",
              "      <th>words</th>\n",
              "    </tr>\n",
              "  </thead>\n",
              "  <tbody>\n",
              "  </tbody>\n",
              "</table>\n",
              "</div>"
            ],
            "text/plain": [
              "Empty DataFrame\n",
              "Columns: [filepath, words_id, words]\n",
              "Index: []"
            ]
          },
          "execution_count": 52,
          "metadata": {},
          "output_type": "execute_result"
        }
      ],
      "source": [
        ""
      ]
    },
    {
      "cell_type": "code",
      "execution_count": null,
      "metadata": {
        "id": "5n-85umJ0yZs"
      },
      "outputs": [],
      "source": [
        ""
      ]
    },
    {
      "cell_type": "code",
      "execution_count": null,
      "metadata": {
        "id": "RyMIgoui0yZs"
      },
      "outputs": [],
      "source": [
        ""
      ]
    },
    {
      "cell_type": "code",
      "execution_count": null,
      "metadata": {
        "id": "KSCug4wn0yZs"
      },
      "outputs": [],
      "source": [
        "# char_list:   'abcdefghijklmnopqrstuvwxyzABCDEFGHIJKLMNOPQRSTUVWXYZ0123456789'\n",
        "# total number of our output classes: len(char_list)\n",
        "char_list = string.ascii_letters+string.digits\n",
        "\n",
        "def encode_to_labels(txt):\n",
        "    # encoding each output word into digits\n",
        "    dig_lst = []\n",
        "    for index, char in enumerate(txt):\n",
        "        try:\n",
        "            dig_lst.append(char_list.index(char))\n",
        "        except:\n",
        "            print(char)\n",
        "        \n",
        "    return dig_lst"
      ]
    },
    {
      "cell_type": "code",
      "execution_count": null,
      "metadata": {
        "id": "1l02gXgK0yZt"
      },
      "outputs": [],
      "source": [
        ""
      ]
    },
    {
      "cell_type": "code",
      "execution_count": null,
      "metadata": {
        "id": "WVj2HZoH0yZt"
      },
      "outputs": [],
      "source": [
        "model_ocr = tf.keras.Sequential()"
      ]
    },
    {
      "cell_type": "code",
      "execution_count": null,
      "metadata": {
        "id": "8614RIdM0yZu"
      },
      "outputs": [],
      "source": [
        ""
      ]
    },
    {
      "cell_type": "code",
      "execution_count": null,
      "metadata": {
        "id": "oY-erFsl0yZu"
      },
      "outputs": [],
      "source": [
        ""
      ]
    }
  ],
  "metadata": {
    "kernelspec": {
      "display_name": "Python 3",
      "language": "python",
      "name": "python3"
    },
    "language_info": {
      "codemirror_mode": {
        "name": "ipython",
        "version": 3
      },
      "file_extension": ".py",
      "mimetype": "text/x-python",
      "name": "python",
      "nbconvert_exporter": "python",
      "pygments_lexer": "ipython3",
      "version": "3.8.5"
    },
    "colab": {
      "name": "OCR_WORDS_FILE.ipynb",
      "provenance": [],
      "include_colab_link": true
    }
  },
  "nbformat": 4,
  "nbformat_minor": 0
}