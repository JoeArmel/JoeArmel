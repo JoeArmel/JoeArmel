{
  "nbformat": 4,
  "nbformat_minor": 0,
  "metadata": {
    "colab": {
      "name": "Time Series Visualizer.ipynb",
      "provenance": [],
      "collapsed_sections": [],
      "authorship_tag": "ABX9TyN6g1II4v/Vh8qrQbaVdaDW",
      "include_colab_link": true
    },
    "kernelspec": {
      "name": "python3",
      "display_name": "Python 3"
    },
    "language_info": {
      "name": "python"
    }
  },
  "cells": [
    {
      "cell_type": "markdown",
      "metadata": {
        "id": "view-in-github",
        "colab_type": "text"
      },
      "source": [
        "<a href=\"https://colab.research.google.com/github/JoeArmel/JoeArmel/blob/main/Time_Series_Visualizer.ipynb\" target=\"_parent\"><img src=\"https://colab.research.google.com/assets/colab-badge.svg\" alt=\"Open In Colab\"/></a>"
      ]
    },
    {
      "cell_type": "code",
      "metadata": {
        "id": "Gf4XNTmVU4y-"
      },
      "source": [
        "import pandas as pd\n",
        "import numpy as np\n",
        "import matplotlib.pyplot as plt\n",
        "import seaborn as sns"
      ],
      "execution_count": null,
      "outputs": []
    },
    {
      "cell_type": "code",
      "metadata": {
        "colab": {
          "base_uri": "https://localhost:8080/"
        },
        "id": "I0MgxJMjVRl9",
        "outputId": "63bd14c5-d314-4fbc-faaa-b9f1c659b50f"
      },
      "source": [
        "from google.colab import drive\n",
        "drive.mount(\"/content/gdrive\")"
      ],
      "execution_count": null,
      "outputs": [
        {
          "output_type": "stream",
          "text": [
            "Mounted at /content/gdrive\n"
          ],
          "name": "stdout"
        }
      ]
    },
    {
      "cell_type": "code",
      "metadata": {
        "colab": {
          "base_uri": "https://localhost:8080/"
        },
        "id": "qPBiXLJiWS1_",
        "outputId": "11fa2ae2-bb00-42d1-af55-e47a4a17410c"
      },
      "source": [
        "!head gdrive/MyDrive/fcc-forum-pageviews.csv"
      ],
      "execution_count": null,
      "outputs": [
        {
          "output_type": "stream",
          "text": [
            "date,value\n",
            "2016-05-09,1201\n",
            "2016-05-10,2329\n",
            "2016-05-11,1716\n",
            "2016-05-12,10539\n",
            "2016-05-13,6933\n",
            "2016-05-14,3127\n",
            "2016-05-15,2927\n",
            "2016-05-16,2591\n",
            "2016-05-17,3403\n"
          ],
          "name": "stdout"
        }
      ]
    },
    {
      "cell_type": "code",
      "metadata": {
        "id": "cRaYefYgeCRu"
      },
      "source": [
        ""
      ],
      "execution_count": null,
      "outputs": []
    },
    {
      "cell_type": "code",
      "metadata": {
        "colab": {
          "base_uri": "https://localhost:8080/",
          "height": 232
        },
        "id": "n1sKe50lVq0e",
        "outputId": "21607d78-72af-4787-a3c7-999865901139"
      },
      "source": [
        "df = pd.read_csv(\"gdrive/MyDrive/fcc-forum-pageviews.csv\", index_col = \"date\", parse_dates=[0] )\n",
        "df.head()"
      ],
      "execution_count": null,
      "outputs": [
        {
          "output_type": "execute_result",
          "data": {
            "text/html": [
              "<div>\n",
              "<style scoped>\n",
              "    .dataframe tbody tr th:only-of-type {\n",
              "        vertical-align: middle;\n",
              "    }\n",
              "\n",
              "    .dataframe tbody tr th {\n",
              "        vertical-align: top;\n",
              "    }\n",
              "\n",
              "    .dataframe thead th {\n",
              "        text-align: right;\n",
              "    }\n",
              "</style>\n",
              "<table border=\"1\" class=\"dataframe\">\n",
              "  <thead>\n",
              "    <tr style=\"text-align: right;\">\n",
              "      <th></th>\n",
              "      <th>value</th>\n",
              "    </tr>\n",
              "    <tr>\n",
              "      <th>date</th>\n",
              "      <th></th>\n",
              "    </tr>\n",
              "  </thead>\n",
              "  <tbody>\n",
              "    <tr>\n",
              "      <th>2016-05-09</th>\n",
              "      <td>1201</td>\n",
              "    </tr>\n",
              "    <tr>\n",
              "      <th>2016-05-10</th>\n",
              "      <td>2329</td>\n",
              "    </tr>\n",
              "    <tr>\n",
              "      <th>2016-05-11</th>\n",
              "      <td>1716</td>\n",
              "    </tr>\n",
              "    <tr>\n",
              "      <th>2016-05-12</th>\n",
              "      <td>10539</td>\n",
              "    </tr>\n",
              "    <tr>\n",
              "      <th>2016-05-13</th>\n",
              "      <td>6933</td>\n",
              "    </tr>\n",
              "  </tbody>\n",
              "</table>\n",
              "</div>"
            ],
            "text/plain": [
              "            value\n",
              "date             \n",
              "2016-05-09   1201\n",
              "2016-05-10   2329\n",
              "2016-05-11   1716\n",
              "2016-05-12  10539\n",
              "2016-05-13   6933"
            ]
          },
          "metadata": {
            "tags": []
          },
          "execution_count": 3
        }
      ]
    },
    {
      "cell_type": "code",
      "metadata": {
        "colab": {
          "base_uri": "https://localhost:8080/",
          "height": 232
        },
        "id": "q6MGiRibZKZH",
        "outputId": "cfb7248e-45ba-4349-aafd-3560330ce821"
      },
      "source": [
        "df = df.loc[(df[\"value\"] >= df[\"value\"].quantile(0.025)) & (df[\"value\"] <= df[\"value\"].quantile(0.975))]\n",
        "df.head()"
      ],
      "execution_count": null,
      "outputs": [
        {
          "output_type": "execute_result",
          "data": {
            "text/html": [
              "<div>\n",
              "<style scoped>\n",
              "    .dataframe tbody tr th:only-of-type {\n",
              "        vertical-align: middle;\n",
              "    }\n",
              "\n",
              "    .dataframe tbody tr th {\n",
              "        vertical-align: top;\n",
              "    }\n",
              "\n",
              "    .dataframe thead th {\n",
              "        text-align: right;\n",
              "    }\n",
              "</style>\n",
              "<table border=\"1\" class=\"dataframe\">\n",
              "  <thead>\n",
              "    <tr style=\"text-align: right;\">\n",
              "      <th></th>\n",
              "      <th>value</th>\n",
              "    </tr>\n",
              "    <tr>\n",
              "      <th>date</th>\n",
              "      <th></th>\n",
              "    </tr>\n",
              "  </thead>\n",
              "  <tbody>\n",
              "    <tr>\n",
              "      <th>2016-05-19</th>\n",
              "      <td>19736</td>\n",
              "    </tr>\n",
              "    <tr>\n",
              "      <th>2016-05-26</th>\n",
              "      <td>18060</td>\n",
              "    </tr>\n",
              "    <tr>\n",
              "      <th>2016-05-27</th>\n",
              "      <td>19997</td>\n",
              "    </tr>\n",
              "    <tr>\n",
              "      <th>2016-05-28</th>\n",
              "      <td>19044</td>\n",
              "    </tr>\n",
              "    <tr>\n",
              "      <th>2016-05-29</th>\n",
              "      <td>20325</td>\n",
              "    </tr>\n",
              "  </tbody>\n",
              "</table>\n",
              "</div>"
            ],
            "text/plain": [
              "            value\n",
              "date             \n",
              "2016-05-19  19736\n",
              "2016-05-26  18060\n",
              "2016-05-27  19997\n",
              "2016-05-28  19044\n",
              "2016-05-29  20325"
            ]
          },
          "metadata": {
            "tags": []
          },
          "execution_count": 4
        }
      ]
    },
    {
      "cell_type": "code",
      "metadata": {
        "id": "qOVRHQnYZmki"
      },
      "source": [
        "def draw_line_plot():\n",
        "  fig, ax = plt.subplots(figsize=(18, 6))\n",
        "\n",
        "  # Add x-axis and y-axis\n",
        "  ax.plot(df,\n",
        "          color='red')\n",
        "\n",
        "  # Set title and labels for axes\n",
        "  ax.set(xlabel = 'Date',\n",
        "         ylabel = 'Page Views',\n",
        "         title = 'Daily freeCodeCamp Forum Page Views 5/2016-12/2019');\n",
        "\n",
        "  fig.save('gdrive/MyDrive/line_plot.png')\n",
        "\n",
        "  return fig\n"
      ],
      "execution_count": null,
      "outputs": []
    },
    {
      "cell_type": "code",
      "metadata": {
        "colab": {
          "base_uri": "https://localhost:8080/",
          "height": 232
        },
        "id": "c_HZpMN4Gc63",
        "outputId": "35aff623-c123-4af5-eeb4-5b2be8cc4d47"
      },
      "source": [
        "df1 = df.copy()\n",
        "df1['year'] = df1.index.year\n",
        "df1['month'] = df1.index.month\n",
        "df1.head()"
      ],
      "execution_count": null,
      "outputs": [
        {
          "output_type": "execute_result",
          "data": {
            "text/html": [
              "<div>\n",
              "<style scoped>\n",
              "    .dataframe tbody tr th:only-of-type {\n",
              "        vertical-align: middle;\n",
              "    }\n",
              "\n",
              "    .dataframe tbody tr th {\n",
              "        vertical-align: top;\n",
              "    }\n",
              "\n",
              "    .dataframe thead th {\n",
              "        text-align: right;\n",
              "    }\n",
              "</style>\n",
              "<table border=\"1\" class=\"dataframe\">\n",
              "  <thead>\n",
              "    <tr style=\"text-align: right;\">\n",
              "      <th></th>\n",
              "      <th>value</th>\n",
              "      <th>year</th>\n",
              "      <th>month</th>\n",
              "    </tr>\n",
              "    <tr>\n",
              "      <th>date</th>\n",
              "      <th></th>\n",
              "      <th></th>\n",
              "      <th></th>\n",
              "    </tr>\n",
              "  </thead>\n",
              "  <tbody>\n",
              "    <tr>\n",
              "      <th>2016-05-19</th>\n",
              "      <td>19736</td>\n",
              "      <td>2016</td>\n",
              "      <td>5</td>\n",
              "    </tr>\n",
              "    <tr>\n",
              "      <th>2016-05-26</th>\n",
              "      <td>18060</td>\n",
              "      <td>2016</td>\n",
              "      <td>5</td>\n",
              "    </tr>\n",
              "    <tr>\n",
              "      <th>2016-05-27</th>\n",
              "      <td>19997</td>\n",
              "      <td>2016</td>\n",
              "      <td>5</td>\n",
              "    </tr>\n",
              "    <tr>\n",
              "      <th>2016-05-28</th>\n",
              "      <td>19044</td>\n",
              "      <td>2016</td>\n",
              "      <td>5</td>\n",
              "    </tr>\n",
              "    <tr>\n",
              "      <th>2016-05-29</th>\n",
              "      <td>20325</td>\n",
              "      <td>2016</td>\n",
              "      <td>5</td>\n",
              "    </tr>\n",
              "  </tbody>\n",
              "</table>\n",
              "</div>"
            ],
            "text/plain": [
              "            value  year  month\n",
              "date                          \n",
              "2016-05-19  19736  2016      5\n",
              "2016-05-26  18060  2016      5\n",
              "2016-05-27  19997  2016      5\n",
              "2016-05-28  19044  2016      5\n",
              "2016-05-29  20325  2016      5"
            ]
          },
          "metadata": {
            "tags": []
          },
          "execution_count": 63
        }
      ]
    },
    {
      "cell_type": "code",
      "metadata": {
        "id": "8fb5uPfqHD47"
      },
      "source": [
        "x = df1.groupby(['year', 'month'])['value'].mean()\n"
      ],
      "execution_count": null,
      "outputs": []
    },
    {
      "cell_type": "code",
      "metadata": {
        "colab": {
          "base_uri": "https://localhost:8080/"
        },
        "id": "uW7lzoZ3RXPE",
        "outputId": "eab341ce-b33e-4cdb-aaa9-0c3eee0a10be"
      },
      "source": [
        "x.sort_index(level=[0,1])"
      ],
      "execution_count": null,
      "outputs": [
        {
          "output_type": "execute_result",
          "data": {
            "text/plain": [
              "year  month\n",
              "2016  5         19432.400000\n",
              "      6         21875.105263\n",
              "      7         24109.678571\n",
              "      8         31049.193548\n",
              "      9         41476.866667\n",
              "      10        27398.322581\n",
              "      11        40448.633333\n",
              "      12        27832.419355\n",
              "2017  1         32785.161290\n",
              "      2         31113.071429\n",
              "      3         29369.096774\n",
              "      4         30878.733333\n",
              "      5         34244.290323\n",
              "      6         43577.500000\n",
              "      7         65806.838710\n",
              "      8         47712.451613\n",
              "      9         47376.800000\n",
              "      10        47438.709677\n",
              "      11        57701.566667\n",
              "      12        48420.580645\n",
              "2018  1         58580.096774\n",
              "      2         65679.000000\n",
              "      3         62693.774194\n",
              "      4         62350.833333\n",
              "      5         56562.870968\n",
              "      6         70117.000000\n",
              "      7         63591.064516\n",
              "      8         62831.612903\n",
              "      9         65941.733333\n",
              "      10       111378.142857\n",
              "      11        78688.333333\n",
              "      12        80047.483871\n",
              "2019  1        102056.516129\n",
              "      2        105968.357143\n",
              "      3         91214.483871\n",
              "      4         89368.433333\n",
              "      5         91439.903226\n",
              "      6         90435.642857\n",
              "      7         97236.566667\n",
              "      8        102717.310345\n",
              "      9         97268.833333\n",
              "      10       122802.272727\n",
              "      11       143166.428571\n",
              "      12       150733.500000\n",
              "Name: value, dtype: float64"
            ]
          },
          "metadata": {
            "tags": []
          },
          "execution_count": 147
        }
      ]
    },
    {
      "cell_type": "code",
      "metadata": {
        "colab": {
          "base_uri": "https://localhost:8080/",
          "height": 222
        },
        "id": "jgKFv6skLqvA",
        "outputId": "244708d5-57b3-473e-b506-1a81a76119ae"
      },
      "source": [
        "dfx = x.unstack().sort_index()\n",
        "dfx.head()"
      ],
      "execution_count": null,
      "outputs": [
        {
          "output_type": "execute_result",
          "data": {
            "text/html": [
              "<div>\n",
              "<style scoped>\n",
              "    .dataframe tbody tr th:only-of-type {\n",
              "        vertical-align: middle;\n",
              "    }\n",
              "\n",
              "    .dataframe tbody tr th {\n",
              "        vertical-align: top;\n",
              "    }\n",
              "\n",
              "    .dataframe thead th {\n",
              "        text-align: right;\n",
              "    }\n",
              "</style>\n",
              "<table border=\"1\" class=\"dataframe\">\n",
              "  <thead>\n",
              "    <tr style=\"text-align: right;\">\n",
              "      <th>month</th>\n",
              "      <th>1</th>\n",
              "      <th>2</th>\n",
              "      <th>3</th>\n",
              "      <th>4</th>\n",
              "      <th>5</th>\n",
              "      <th>6</th>\n",
              "      <th>7</th>\n",
              "      <th>8</th>\n",
              "      <th>9</th>\n",
              "      <th>10</th>\n",
              "      <th>11</th>\n",
              "      <th>12</th>\n",
              "    </tr>\n",
              "    <tr>\n",
              "      <th>year</th>\n",
              "      <th></th>\n",
              "      <th></th>\n",
              "      <th></th>\n",
              "      <th></th>\n",
              "      <th></th>\n",
              "      <th></th>\n",
              "      <th></th>\n",
              "      <th></th>\n",
              "      <th></th>\n",
              "      <th></th>\n",
              "      <th></th>\n",
              "      <th></th>\n",
              "    </tr>\n",
              "  </thead>\n",
              "  <tbody>\n",
              "    <tr>\n",
              "      <th>2016</th>\n",
              "      <td>NaN</td>\n",
              "      <td>NaN</td>\n",
              "      <td>NaN</td>\n",
              "      <td>NaN</td>\n",
              "      <td>19432.400000</td>\n",
              "      <td>21875.105263</td>\n",
              "      <td>24109.678571</td>\n",
              "      <td>31049.193548</td>\n",
              "      <td>41476.866667</td>\n",
              "      <td>27398.322581</td>\n",
              "      <td>40448.633333</td>\n",
              "      <td>27832.419355</td>\n",
              "    </tr>\n",
              "    <tr>\n",
              "      <th>2017</th>\n",
              "      <td>32785.161290</td>\n",
              "      <td>31113.071429</td>\n",
              "      <td>29369.096774</td>\n",
              "      <td>30878.733333</td>\n",
              "      <td>34244.290323</td>\n",
              "      <td>43577.500000</td>\n",
              "      <td>65806.838710</td>\n",
              "      <td>47712.451613</td>\n",
              "      <td>47376.800000</td>\n",
              "      <td>47438.709677</td>\n",
              "      <td>57701.566667</td>\n",
              "      <td>48420.580645</td>\n",
              "    </tr>\n",
              "    <tr>\n",
              "      <th>2018</th>\n",
              "      <td>58580.096774</td>\n",
              "      <td>65679.000000</td>\n",
              "      <td>62693.774194</td>\n",
              "      <td>62350.833333</td>\n",
              "      <td>56562.870968</td>\n",
              "      <td>70117.000000</td>\n",
              "      <td>63591.064516</td>\n",
              "      <td>62831.612903</td>\n",
              "      <td>65941.733333</td>\n",
              "      <td>111378.142857</td>\n",
              "      <td>78688.333333</td>\n",
              "      <td>80047.483871</td>\n",
              "    </tr>\n",
              "    <tr>\n",
              "      <th>2019</th>\n",
              "      <td>102056.516129</td>\n",
              "      <td>105968.357143</td>\n",
              "      <td>91214.483871</td>\n",
              "      <td>89368.433333</td>\n",
              "      <td>91439.903226</td>\n",
              "      <td>90435.642857</td>\n",
              "      <td>97236.566667</td>\n",
              "      <td>102717.310345</td>\n",
              "      <td>97268.833333</td>\n",
              "      <td>122802.272727</td>\n",
              "      <td>143166.428571</td>\n",
              "      <td>150733.500000</td>\n",
              "    </tr>\n",
              "  </tbody>\n",
              "</table>\n",
              "</div>"
            ],
            "text/plain": [
              "month             1              2   ...             11             12\n",
              "year                                 ...                              \n",
              "2016             NaN            NaN  ...   40448.633333   27832.419355\n",
              "2017    32785.161290   31113.071429  ...   57701.566667   48420.580645\n",
              "2018    58580.096774   65679.000000  ...   78688.333333   80047.483871\n",
              "2019   102056.516129  105968.357143  ...  143166.428571  150733.500000\n",
              "\n",
              "[4 rows x 12 columns]"
            ]
          },
          "metadata": {
            "tags": []
          },
          "execution_count": 65
        }
      ]
    },
    {
      "cell_type": "code",
      "metadata": {
        "id": "gTgW3GQPkBag"
      },
      "source": [
        "dfx.rename(columns={ 1:'January', 2:'February', 3:'March', 4:'April', 5:'May', 6:'June', 7:'July', 8:'August', 9:'September', 10 :'October', 11:'November', 12:'December'}, inplace=True)\n"
      ],
      "execution_count": null,
      "outputs": []
    },
    {
      "cell_type": "code",
      "metadata": {
        "colab": {
          "base_uri": "https://localhost:8080/",
          "height": 621
        },
        "id": "6nV5hAsV0lIe",
        "outputId": "6e7f6264-66a0-45d6-806b-28dc291640c0"
      },
      "source": [
        "#fig = plt.figure()\n",
        "#ax = fig.add_subplot(1, 1, 1)\n",
        "g = dfx.plot(kind = 'bar', figsize=(11, 10))\n",
        "g.set(xlabel = 'Years',\n",
        "       ylabel = 'Average Page Views')\n",
        "\n",
        "fig = g.figure;\n",
        "\n",
        "fig.savefig('gdrive/MyDrive/bar_plot.png')"
      ],
      "execution_count": null,
      "outputs": [
        {
          "output_type": "display_data",
          "data": {
            "image/png": "[encoded data removed]",
            "text/plain": [
              "<Figure size 792x720 with 1 Axes>"
            ]
          },
          "metadata": {
            "tags": [],
            "needs_background": "light"
          }
        }
      ]
    },
    {
      "cell_type": "code",
      "metadata": {
        "colab": {
          "base_uri": "https://localhost:8080/",
          "height": 202
        },
        "id": "CMlfj3q-6JKF",
        "outputId": "b950f538-7971-43fe-9d36-030767c326fa"
      },
      "source": [
        "df_box = df.copy()\n",
        "df_box.reset_index(inplace=True)\n",
        "df_box['year'] = [d.year for d in df_box.date]\n",
        "df_box['month'] = [d.strftime('%b') for d in df_box.date]\n",
        "df_box.head()"
      ],
      "execution_count": null,
      "outputs": [
        {
          "output_type": "execute_result",
          "data": {
            "text/html": [
              "<div>\n",
              "<style scoped>\n",
              "    .dataframe tbody tr th:only-of-type {\n",
              "        vertical-align: middle;\n",
              "    }\n",
              "\n",
              "    .dataframe tbody tr th {\n",
              "        vertical-align: top;\n",
              "    }\n",
              "\n",
              "    .dataframe thead th {\n",
              "        text-align: right;\n",
              "    }\n",
              "</style>\n",
              "<table border=\"1\" class=\"dataframe\">\n",
              "  <thead>\n",
              "    <tr style=\"text-align: right;\">\n",
              "      <th></th>\n",
              "      <th>date</th>\n",
              "      <th>value</th>\n",
              "      <th>year</th>\n",
              "      <th>month</th>\n",
              "    </tr>\n",
              "  </thead>\n",
              "  <tbody>\n",
              "    <tr>\n",
              "      <th>0</th>\n",
              "      <td>2016-05-19</td>\n",
              "      <td>19736</td>\n",
              "      <td>2016</td>\n",
              "      <td>May</td>\n",
              "    </tr>\n",
              "    <tr>\n",
              "      <th>1</th>\n",
              "      <td>2016-05-26</td>\n",
              "      <td>18060</td>\n",
              "      <td>2016</td>\n",
              "      <td>May</td>\n",
              "    </tr>\n",
              "    <tr>\n",
              "      <th>2</th>\n",
              "      <td>2016-05-27</td>\n",
              "      <td>19997</td>\n",
              "      <td>2016</td>\n",
              "      <td>May</td>\n",
              "    </tr>\n",
              "    <tr>\n",
              "      <th>3</th>\n",
              "      <td>2016-05-28</td>\n",
              "      <td>19044</td>\n",
              "      <td>2016</td>\n",
              "      <td>May</td>\n",
              "    </tr>\n",
              "    <tr>\n",
              "      <th>4</th>\n",
              "      <td>2016-05-29</td>\n",
              "      <td>20325</td>\n",
              "      <td>2016</td>\n",
              "      <td>May</td>\n",
              "    </tr>\n",
              "  </tbody>\n",
              "</table>\n",
              "</div>"
            ],
            "text/plain": [
              "        date  value  year month\n",
              "0 2016-05-19  19736  2016   May\n",
              "1 2016-05-26  18060  2016   May\n",
              "2 2016-05-27  19997  2016   May\n",
              "3 2016-05-28  19044  2016   May\n",
              "4 2016-05-29  20325  2016   May"
            ]
          },
          "metadata": {
            "tags": []
          },
          "execution_count": 54
        }
      ]
    },
    {
      "cell_type": "code",
      "metadata": {
        "colab": {
          "base_uri": "https://localhost:8080/",
          "height": 513
        },
        "id": "aInVG5nV6Sug",
        "outputId": "c881b8e7-9064-45b3-bc21-107a84fb0da2"
      },
      "source": [
        "fig = plt.figure(figsize=(20,8))\n",
        "\n",
        "ax1 = fig.add_subplot(1, 2, 1)\n",
        "sns.boxplot(x='year', y='value', data=df_box)\n",
        "ax1.set_xlabel(\"Year\")\n",
        "ax1.set_ylabel(\"Page Views\")\n",
        "ax1.set_title(\"Year-wise Box Plot (Trend)\")\n",
        "\n",
        "ax2 = fig.add_subplot(1, 2, 2)\n",
        "order = ['Jan', 'Feb', 'Mar', 'Apr', 'May', 'Jun', 'Jul', 'Aug', 'Sep', 'Oct', 'Nov', 'Dec']\n",
        "sns.boxplot(x='month',  y= 'value', data=df_box, ax=ax2, order=order)\n",
        "ax2.set_xlabel(\"Month\")\n",
        "ax2.set_ylabel(\"Page Views\")\n",
        "ax2.set_title(\"Month-wise Box Plot (Seasonality)\")\n",
        "\n",
        "\n",
        "plt.show();\n",
        "\n",
        "fig.savefig(\"gdrive/MyDrive/boxplot.png\")"
      ],
      "execution_count": null,
      "outputs": [
        {
          "output_type": "display_data",
          "data": {
            "image/png": "[encoded data removed]",
            "text/plain": [
              "<Figure size 1440x576 with 2 Axes>"
            ]
          },
          "metadata": {
            "tags": [],
            "needs_background": "light"
          }
        }
      ]
    },
    {
      "cell_type": "code",
      "metadata": {
        "id": "_u-BeBx__UF1"
      },
      "source": [
        ""
      ],
      "execution_count": null,
      "outputs": []
    },
    {
      "cell_type": "code",
      "metadata": {
        "colab": {
          "base_uri": "https://localhost:8080/",
          "height": 202
        },
        "id": "TkDpJpwTltw4",
        "outputId": "5d5b4744-cec1-4690-b675-6ebd7f136423"
      },
      "source": [
        "dg=pd.DataFrame(np.random.randint(50,1000,365).reshape(-1,1),\n",
        "                index=pd.date_range('2018-01-01','2018-12-31',freq='D'),\n",
        "                columns=['sum'])\n",
        "dg.reset_index(inplace=True)\n",
        "dg.columns = ['Date','sum']\n",
        "dg.head()"
      ],
      "execution_count": null,
      "outputs": [
        {
          "output_type": "execute_result",
          "data": {
            "text/html": [
              "<div>\n",
              "<style scoped>\n",
              "    .dataframe tbody tr th:only-of-type {\n",
              "        vertical-align: middle;\n",
              "    }\n",
              "\n",
              "    .dataframe tbody tr th {\n",
              "        vertical-align: top;\n",
              "    }\n",
              "\n",
              "    .dataframe thead th {\n",
              "        text-align: right;\n",
              "    }\n",
              "</style>\n",
              "<table border=\"1\" class=\"dataframe\">\n",
              "  <thead>\n",
              "    <tr style=\"text-align: right;\">\n",
              "      <th></th>\n",
              "      <th>Date</th>\n",
              "      <th>sum</th>\n",
              "    </tr>\n",
              "  </thead>\n",
              "  <tbody>\n",
              "    <tr>\n",
              "      <th>0</th>\n",
              "      <td>2018-01-01</td>\n",
              "      <td>353</td>\n",
              "    </tr>\n",
              "    <tr>\n",
              "      <th>1</th>\n",
              "      <td>2018-01-02</td>\n",
              "      <td>243</td>\n",
              "    </tr>\n",
              "    <tr>\n",
              "      <th>2</th>\n",
              "      <td>2018-01-03</td>\n",
              "      <td>709</td>\n",
              "    </tr>\n",
              "    <tr>\n",
              "      <th>3</th>\n",
              "      <td>2018-01-04</td>\n",
              "      <td>76</td>\n",
              "    </tr>\n",
              "    <tr>\n",
              "      <th>4</th>\n",
              "      <td>2018-01-05</td>\n",
              "      <td>71</td>\n",
              "    </tr>\n",
              "  </tbody>\n",
              "</table>\n",
              "</div>"
            ],
            "text/plain": [
              "        Date  sum\n",
              "0 2018-01-01  353\n",
              "1 2018-01-02  243\n",
              "2 2018-01-03  709\n",
              "3 2018-01-04   76\n",
              "4 2018-01-05   71"
            ]
          },
          "metadata": {
            "tags": []
          },
          "execution_count": 49
        }
      ]
    },
    {
      "cell_type": "code",
      "metadata": {
        "colab": {
          "base_uri": "https://localhost:8080/",
          "height": 202
        },
        "id": "3shg3lXBltpk",
        "outputId": "7a8a312a-4834-460a-d1cf-03e91ddc0f59"
      },
      "source": [
        "dg['month'] = dg['Date'].dt.strftime('%b')\n",
        "dg.head()"
      ],
      "execution_count": null,
      "outputs": [
        {
          "output_type": "execute_result",
          "data": {
            "text/html": [
              "<div>\n",
              "<style scoped>\n",
              "    .dataframe tbody tr th:only-of-type {\n",
              "        vertical-align: middle;\n",
              "    }\n",
              "\n",
              "    .dataframe tbody tr th {\n",
              "        vertical-align: top;\n",
              "    }\n",
              "\n",
              "    .dataframe thead th {\n",
              "        text-align: right;\n",
              "    }\n",
              "</style>\n",
              "<table border=\"1\" class=\"dataframe\">\n",
              "  <thead>\n",
              "    <tr style=\"text-align: right;\">\n",
              "      <th></th>\n",
              "      <th>Date</th>\n",
              "      <th>sum</th>\n",
              "      <th>month</th>\n",
              "    </tr>\n",
              "  </thead>\n",
              "  <tbody>\n",
              "    <tr>\n",
              "      <th>0</th>\n",
              "      <td>2018-01-01</td>\n",
              "      <td>353</td>\n",
              "      <td>Jan</td>\n",
              "    </tr>\n",
              "    <tr>\n",
              "      <th>1</th>\n",
              "      <td>2018-01-02</td>\n",
              "      <td>243</td>\n",
              "      <td>Jan</td>\n",
              "    </tr>\n",
              "    <tr>\n",
              "      <th>2</th>\n",
              "      <td>2018-01-03</td>\n",
              "      <td>709</td>\n",
              "      <td>Jan</td>\n",
              "    </tr>\n",
              "    <tr>\n",
              "      <th>3</th>\n",
              "      <td>2018-01-04</td>\n",
              "      <td>76</td>\n",
              "      <td>Jan</td>\n",
              "    </tr>\n",
              "    <tr>\n",
              "      <th>4</th>\n",
              "      <td>2018-01-05</td>\n",
              "      <td>71</td>\n",
              "      <td>Jan</td>\n",
              "    </tr>\n",
              "  </tbody>\n",
              "</table>\n",
              "</div>"
            ],
            "text/plain": [
              "        Date  sum month\n",
              "0 2018-01-01  353   Jan\n",
              "1 2018-01-02  243   Jan\n",
              "2 2018-01-03  709   Jan\n",
              "3 2018-01-04   76   Jan\n",
              "4 2018-01-05   71   Jan"
            ]
          },
          "metadata": {
            "tags": []
          },
          "execution_count": 51
        }
      ]
    },
    {
      "cell_type": "code",
      "metadata": {
        "colab": {
          "base_uri": "https://localhost:8080/",
          "height": 278
        },
        "id": "FJGaIsTSmAnY",
        "outputId": "7aca4ec6-e1cd-4a42-d791-1445b1ed1937"
      },
      "source": [
        "fig, ax = plt.subplots()\n",
        "fig.set_size_inches((12,4))\n",
        "sns.boxplot(x='month',y='sum',data=dg,ax=ax)\n",
        "plt.show()"
      ],
      "execution_count": null,
      "outputs": [
        {
          "output_type": "display_data",
          "data": {
            "image/png": "[encoded data removed]",
            "text/plain": [
              "<Figure size 864x288 with 1 Axes>"
            ]
          },
          "metadata": {
            "tags": [],
            "needs_background": "light"
          }
        }
      ]
    },
    {
      "cell_type": "code",
      "metadata": {
        "id": "U79hBo474ZxP"
      },
      "source": [
        ""
      ],
      "execution_count": null,
      "outputs": []
    }
  ]
}